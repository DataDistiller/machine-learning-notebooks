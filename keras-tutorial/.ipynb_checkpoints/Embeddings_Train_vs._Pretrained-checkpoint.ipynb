{
 "cells": [
  {
   "cell_type": "code",
   "execution_count": 1,
   "metadata": {},
   "outputs": [
    {
     "name": "stderr",
     "output_type": "stream",
     "text": [
      "Using TensorFlow backend.\n"
     ]
    }
   ],
   "source": [
    "import re\n",
    "import numpy as np\n",
    "from keras.preprocessing.sequence import pad_sequences\n",
    "from keras.preprocessing.text import one_hot\n",
    "from keras.models import Sequential\n",
    "from keras.layers import Embedding, Flatten, Dense"
   ]
  },
  {
   "cell_type": "code",
   "execution_count": 2,
   "metadata": {
    "collapsed": true
   },
   "outputs": [],
   "source": [
    "# Define documents\n",
    "docs = ['Well done!', 'Good work', 'Great effort', 'nice work', 'Excellent!',\n",
    "        'Weak', 'Poor effort!', 'not good', 'poor work', 'Could have done better.']\n",
    "\n",
    "# Define class labels\n",
    "labels = [1, 1, 1, 1, 1, 0, 0, 0, 0, 0]"
   ]
  },
  {
   "cell_type": "code",
   "execution_count": 3,
   "metadata": {},
   "outputs": [
    {
     "name": "stdout",
     "output_type": "stream",
     "text": [
      "[[3, 5], [9, 7], [4, 4], [1, 7], [6], [6], [8, 4], [8, 9], [8, 7], [1, 1, 5, 9]]\n"
     ]
    }
   ],
   "source": [
    "own_embedding_vocab_size = 10\n",
    "encoded_docs_oe = [one_hot(d, own_embedding_vocab_size) for d in docs]\n",
    "print(encoded_docs_oe)"
   ]
  },
  {
   "cell_type": "code",
   "execution_count": 5,
   "metadata": {},
   "outputs": [
    {
     "name": "stdout",
     "output_type": "stream",
     "text": [
      "[[3 5 0 0 0]\n",
      " [9 7 0 0 0]\n",
      " [4 4 0 0 0]\n",
      " [1 7 0 0 0]\n",
      " [6 0 0 0 0]\n",
      " [6 0 0 0 0]\n",
      " [8 4 0 0 0]\n",
      " [8 9 0 0 0]\n",
      " [8 7 0 0 0]\n",
      " [1 1 5 9 0]]\n"
     ]
    }
   ],
   "source": [
    "maxlen = 5\n",
    "padded_docs_oe = pad_sequences(encoded_docs_oe, maxlen=maxlen, padding='post')\n",
    "print(padded_docs_oe)"
   ]
  },
  {
   "cell_type": "code",
   "execution_count": 7,
   "metadata": {
    "collapsed": true
   },
   "outputs": [],
   "source": [
    "model = Sequential()\n",
    "model.add(Embedding(input_dim=own_embedding_vocab_size,\n",
    "                    output_dim=32, \n",
    "                    input_length=maxlen))\n",
    "model.add(Flatten())\n",
    "model.add(Dense(1, activation='sigmoid'))"
   ]
  },
  {
   "cell_type": "code",
   "execution_count": 8,
   "metadata": {},
   "outputs": [
    {
     "name": "stdout",
     "output_type": "stream",
     "text": [
      "_________________________________________________________________\n",
      "Layer (type)                 Output Shape              Param #   \n",
      "=================================================================\n",
      "embedding_1 (Embedding)      (None, 5, 32)             320       \n",
      "_________________________________________________________________\n",
      "flatten_1 (Flatten)          (None, 160)               0         \n",
      "_________________________________________________________________\n",
      "dense_1 (Dense)              (None, 1)                 161       \n",
      "=================================================================\n",
      "Total params: 481\n",
      "Trainable params: 481\n",
      "Non-trainable params: 0\n",
      "_________________________________________________________________\n",
      "None\n",
      "Accuracy: 0.800\n"
     ]
    }
   ],
   "source": [
    "model.compile(optimizer='adam', loss='binary_crossentropy', metrics=['acc'])  # Compile the model\n",
    "print(model.summary())  # Summarize the model\n",
    "model.fit(padded_docs_oe, labels, epochs=50, verbose=0)  # Fit the model\n",
    "loss, accuracy = model.evaluate(padded_docs_oe, labels, verbose=0)  # Evaluate the model\n",
    "print('Accuracy: %0.3f' % accuracy)"
   ]
  },
  {
   "cell_type": "markdown",
   "metadata": {},
   "source": [
    "# aggressive dataset"
   ]
  },
  {
   "cell_type": "code",
   "execution_count": 11,
   "metadata": {},
   "outputs": [],
   "source": [
    "import pandas as pd\n",
    "train_df = pd.read_csv('../aggression-identification/agr_en_train.csv', header=None)\n",
    "test_df = pd.read_csv('../aggression-identification/agr_en_dev.csv', header=None)"
   ]
  },
  {
   "cell_type": "code",
   "execution_count": 66,
   "metadata": {
    "collapsed": true
   },
   "outputs": [],
   "source": [
    "x_train_msg = list(train_df[1])\n",
    "y_train_msg = list(train_df[2])"
   ]
  },
  {
   "cell_type": "code",
   "execution_count": 80,
   "metadata": {},
   "outputs": [
    {
     "name": "stdout",
     "output_type": "stream",
     "text": [
      "[[0 0 1]\n",
      " [0 1 0]\n",
      " [0 0 1]\n",
      " ..., \n",
      " [0 0 1]\n",
      " [0 0 1]\n",
      " [0 1 0]]\n"
     ]
    }
   ],
   "source": [
    "from sklearn.preprocessing import LabelBinarizer\n",
    "encoder = LabelBinarizer()\n",
    "y_train_msg_encoded = encoder.fit_transform(y_train_msg)\n",
    "print(y_train_msg_encoded)"
   ]
  },
  {
   "cell_type": "code",
   "execution_count": 74,
   "metadata": {},
   "outputs": [],
   "source": [
    "own_embedding_vocab_size = 21766\n",
    "encoded_docs_oe = [one_hot(d, own_embedding_vocab_size) for d in x_train_msg]"
   ]
  },
  {
   "cell_type": "code",
   "execution_count": 75,
   "metadata": {},
   "outputs": [
    {
     "name": "stdout",
     "output_type": "stream",
     "text": [
      "[[17649 14312 19274 ...,     0     0     0]\n",
      " [21709 17180  1802 ...,     0     0     0]\n",
      " [15389  2027 12448 ...,     0     0     0]\n",
      " ..., \n",
      " [16671 18608     0 ...,     0     0     0]\n",
      " [ 6721  1252  2415 ...,     0     0     0]\n",
      " [12756 13013   850 ...,     0     0     0]]\n"
     ]
    }
   ],
   "source": [
    "maxlen = 1126\n",
    "padded_docs_oe = pad_sequences(encoded_docs_oe, maxlen=maxlen, padding='post')\n",
    "print(padded_docs_oe)"
   ]
  },
  {
   "cell_type": "code",
   "execution_count": 82,
   "metadata": {
    "collapsed": true
   },
   "outputs": [],
   "source": [
    "model = Sequential()\n",
    "model.add(Embedding(input_dim=own_embedding_vocab_size,\n",
    "                    output_dim=32, \n",
    "                    input_length=maxlen))\n",
    "model.add(Flatten())\n",
    "model.add(Dense(3, activation='sigmoid'))"
   ]
  },
  {
   "cell_type": "code",
   "execution_count": 85,
   "metadata": {},
   "outputs": [
    {
     "name": "stdout",
     "output_type": "stream",
     "text": [
      "_________________________________________________________________\n",
      "Layer (type)                 Output Shape              Param #   \n",
      "=================================================================\n",
      "embedding_3 (Embedding)      (None, 1126, 32)          696512    \n",
      "_________________________________________________________________\n",
      "flatten_3 (Flatten)          (None, 36032)             0         \n",
      "_________________________________________________________________\n",
      "dense_3 (Dense)              (None, 3)                 108099    \n",
      "=================================================================\n",
      "Total params: 804,611\n",
      "Trainable params: 804,611\n",
      "Non-trainable params: 0\n",
      "_________________________________________________________________\n"
     ]
    }
   ],
   "source": [
    "model.compile(optimizer='adam', loss='binary_crossentropy', metrics=['acc'])  # Compile the model\n",
    "model.summary()"
   ]
  },
  {
   "cell_type": "code",
   "execution_count": 90,
   "metadata": {},
   "outputs": [
    {
     "name": "stdout",
     "output_type": "stream",
     "text": [
      "Epoch 1/10\n",
      "12000/12000 [==============================] - 2s - loss: 0.0177 - acc: 0.9927     \n",
      "Epoch 2/10\n",
      "12000/12000 [==============================] - 2s - loss: 0.0175 - acc: 0.9928     \n",
      "Epoch 3/10\n",
      "12000/12000 [==============================] - 2s - loss: 0.0197 - acc: 0.9924     \n",
      "Epoch 4/10\n",
      "12000/12000 [==============================] - 2s - loss: 0.0179 - acc: 0.9928     \n",
      "Epoch 5/10\n",
      "12000/12000 [==============================] - 2s - loss: 0.0167 - acc: 0.9930     \n",
      "Epoch 6/10\n",
      "12000/12000 [==============================] - 3s - loss: 0.0164 - acc: 0.9929     \n",
      "Epoch 7/10\n",
      "12000/12000 [==============================] - 3s - loss: 0.0176 - acc: 0.9929     \n",
      "Epoch 8/10\n",
      "12000/12000 [==============================] - 3s - loss: 0.0173 - acc: 0.9929     \n",
      "Epoch 9/10\n",
      "12000/12000 [==============================] - 3s - loss: 0.0177 - acc: 0.9925     \n",
      "Epoch 10/10\n",
      "12000/12000 [==============================] - 3s - loss: 0.0171 - acc: 0.9925     \n"
     ]
    }
   ],
   "source": [
    "history = model.fit(padded_docs_oe, y_train_msg_encoded, epochs=10, verbose=1)  # Fit the model"
   ]
  },
  {
   "cell_type": "code",
   "execution_count": 91,
   "metadata": {},
   "outputs": [
    {
     "name": "stdout",
     "output_type": "stream",
     "text": [
      "11872/12000 [============================>.] - ETA: 0sAccuracy: 0.994\n"
     ]
    }
   ],
   "source": [
    "loss, accuracy = model.evaluate(padded_docs_oe, y_train_msg_encoded, verbose=1)    # Evaluate the model\n",
    "print('Accuracy: %0.3f' % accuracy)"
   ]
  },
  {
   "cell_type": "markdown",
   "metadata": {},
   "source": [
    "### with GloVe Embeddings"
   ]
  },
  {
   "cell_type": "code",
   "execution_count": 94,
   "metadata": {
    "collapsed": true
   },
   "outputs": [],
   "source": [
    "def load_glove_embeddings(fp, embedding_dim, include_empty_char=True):\n",
    "    \"\"\"\n",
    "    Loads pre-trained word embeddings (GloVe embeddings)\n",
    "        Inputs: - fp: filepath of pre-trained glove embeddings\n",
    "                - embedding_dim: dimension of each vector embedding\n",
    "                - generate_matrix: whether to generate an embedding matrix\n",
    "        Outputs:\n",
    "                - word2coefs: Dictionary. Word to its corresponding coefficients\n",
    "                - word2index: Dictionary. Word to word-index\n",
    "                - embedding_matrix: Embedding matrix for Keras Embedding layer\n",
    "    \"\"\"\n",
    "    \n",
    "    # First, build the \"word2coefs\" and \"word2index\"\n",
    "    word2coefs = {} # word to its corresponding coefficients\n",
    "    word2index = {} # word to word-index\n",
    "    with open(fp) as f:\n",
    "        for idx, line in enumerate(f):\n",
    "            try:\n",
    "                data = [x.strip().lower() for x in line.split()]\n",
    "                word = data[0]\n",
    "                coefs = np.asarray(data[1:embedding_dim+1], dtype='float32')\n",
    "                word2coefs[word] = coefs\n",
    "                if word not in word2index:\n",
    "                    word2index[word] = len(word2index)\n",
    "            except Exception as e:\n",
    "                print('Exception occurred in `load_glove_embeddings`:', e)\n",
    "                continue\n",
    "        # End of for loop.\n",
    "    # End of with open\n",
    "    \n",
    "    if include_empty_char:\n",
    "        word2index[''] = len(word2index)\n",
    "    \n",
    "    # Second, build the \"embedding_matrix\"\n",
    "    \n",
    "    # Words not found in embedding index will be all-zeros. Hence, the \"+1\".\n",
    "    vocab_size = len(word2coefs)+1 if include_empty_char else len(word2coefs)\n",
    "    embedding_matrix = np.zeros((vocab_size, embedding_dim))\n",
    "    for word, idx in word2index.items():\n",
    "        embedding_vec = word2coefs.get(word)\n",
    "        if embedding_vec is not None and embedding_vec.shape[0]==embedding_dim:\n",
    "            embedding_matrix[idx] = np.asarray(embedding_vec)\n",
    "    \n",
    "    # return word2coefs, word2index, embedding_matrix\n",
    "    return word2index, np.asarray(embedding_matrix)"
   ]
  },
  {
   "cell_type": "code",
   "execution_count": 97,
   "metadata": {},
   "outputs": [],
   "source": [
    "GLOVE_DIR = \"/Users/dsbatista/resources/glove.6B/\"\n",
    "file = 'glove.6B.50d.txt'\n",
    "\n",
    "word2index, embedding_matrix = load_glove_embeddings(GLOVE_DIR+file, embedding_dim=50)"
   ]
  },
  {
   "cell_type": "code",
   "execution_count": null,
   "metadata": {},
   "outputs": [],
   "source": [
    "def custom_tokenize(docs):\n",
    "    output_matrix = []\n",
    "    for d in docs:\n",
    "        indices = []\n",
    "        for w in d.split():\n",
    "            word = re.sub(r'[^\\w\\s]','',w).lower()\n",
    "            if word in word2index:\n",
    "                w_index = word2index[word]\n",
    "            else:\n",
    "                w_index = 400000\n",
    "            indices.append(w_index)\n",
    "            output_matrix.append(indices)\n",
    "    return output_matrix\n",
    "    \n",
    "# Encode docs with our special \"custom_tokenize\" function\n",
    "encoded_docs_ge = custom_tokenize(x_train_msg)\n",
    "print(encoded_docs_ge)"
   ]
  },
  {
   "cell_type": "code",
   "execution_count": null,
   "metadata": {
    "collapsed": true
   },
   "outputs": [],
   "source": []
  }
 ],
 "metadata": {
  "kernelspec": {
   "display_name": "Python 3",
   "language": "python",
   "name": "python3"
  },
  "language_info": {
   "codemirror_mode": {
    "name": "ipython",
    "version": 3
   },
   "file_extension": ".py",
   "mimetype": "text/x-python",
   "name": "python",
   "nbconvert_exporter": "python",
   "pygments_lexer": "ipython3",
   "version": "3.6.2"
  }
 },
 "nbformat": 4,
 "nbformat_minor": 2
}

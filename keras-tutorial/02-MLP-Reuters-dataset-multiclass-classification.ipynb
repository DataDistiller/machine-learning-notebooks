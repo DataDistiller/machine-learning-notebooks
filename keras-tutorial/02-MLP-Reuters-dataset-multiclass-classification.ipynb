{
 "cells": [
  {
   "cell_type": "code",
   "execution_count": 73,
   "metadata": {},
   "outputs": [],
   "source": [
    "import keras\n",
    "import numpy as np\n",
    "import matplotlib.pyplot as plt\n",
    "\n",
    "from keras.datasets import reuters\n",
    "from keras.models import Sequential\n",
    "from keras.layers import Dense, Dropout, Activation\n",
    "from keras.preprocessing.text import Tokenizer\n",
    "\n",
    "from sklearn.metrics.classification import classification_report\n",
    "\n",
    "max_words = 1000\n",
    "batch_size = 32\n",
    "epochs = 25"
   ]
  },
  {
   "cell_type": "code",
   "execution_count": 9,
   "metadata": {},
   "outputs": [
    {
     "name": "stdout",
     "output_type": "stream",
     "text": [
      "Loading data...\n",
      "8982 train sequences\n",
      "2246 test sequences\n"
     ]
    }
   ],
   "source": [
    "print('Loading data...')\n",
    "(x_train, y_train), (x_test, y_test) = reuters.load_data(num_words=max_words, test_split=0.2)\n",
    "\n",
    "print(len(x_train), 'train sequences')\n",
    "print(len(x_test), 'test sequences')\n",
    "\n",
    "word_index = reuters.get_word_index()\n",
    "reverse_word_index = dict([(value, key) for (key, value) in word_index.items()])"
   ]
  },
  {
   "cell_type": "code",
   "execution_count": 20,
   "metadata": {},
   "outputs": [
    {
     "data": {
      "text/plain": [
       "array([ list([1, 2, 2, 8, 43, 10, 447, 5, 25, 207, 270, 5, 2, 111, 16, 369, 186, 90, 67, 7, 89, 5, 19, 102, 6, 19, 124, 15, 90, 67, 84, 22, 482, 26, 7, 48, 4, 49, 8, 864, 39, 209, 154, 6, 151, 6, 83, 11, 15, 22, 155, 11, 15, 7, 48, 9, 2, 2, 504, 6, 258, 6, 272, 11, 15, 22, 134, 44, 11, 15, 16, 8, 197, 2, 90, 67, 52, 29, 209, 30, 32, 132, 6, 109, 15, 17, 12]),\n",
       "       list([1, 2, 699, 2, 2, 56, 2, 2, 9, 56, 2, 2, 81, 5, 2, 57, 366, 737, 132, 20, 2, 7, 2, 49, 2, 2, 2, 2, 699, 2, 8, 7, 10, 241, 16, 855, 129, 231, 783, 5, 4, 587, 2, 2, 2, 775, 7, 48, 34, 191, 44, 35, 2, 505, 17, 12])], dtype=object)"
      ]
     },
     "execution_count": 20,
     "metadata": {},
     "output_type": "execute_result"
    }
   ],
   "source": [
    "x_train[:2]"
   ]
  },
  {
   "cell_type": "code",
   "execution_count": 25,
   "metadata": {},
   "outputs": [],
   "source": [
    "decoded_newswire = ' '.join([reverse_word_index.get(i - 3, '?') for i in x_train[100]])"
   ]
  },
  {
   "cell_type": "code",
   "execution_count": 26,
   "metadata": {},
   "outputs": [
    {
     "data": {
      "text/plain": [
       "'? opec ? world oil prices should be set around a fixed average price of 18 dlrs a barrel ? ? general secretary ? ? ? said today in a ? to a european community ec ? opec ? in ? ? here ? ? said opec ? the world energy trade should be ? without ? and should be ? around a fixed average price of 18 dlrs but he ? that ? of the 18 dlr a barrel level had caused ? for opec countries who had been ? to ? production and he ? that such ? by opec states could not be ? in some ? for opec to ? the world oil price at what is now ? the ? level of 18 dlrs a barrel its member countries have had to ? ? ? in ? production ? ? said such ? ? in certain ? be ? ? ? said as well as financial and marketing ? some states ? on ? gas output for domestic use and oil ? had ? ? gas supplies he added ? ? noted that total opec output was below the ? agreed ? for all member countries in february although this had ? ? the effect of these ? ? that market stability ? ? to a good level was still under pressure ? ? said a ? stability in the world market ? a ? ? of international ? he added he said some non opec oil producing countries had ? a political ? after 1986 to ? with opec but although ? announced by these states were ? significant and ? by opec they were ? in terms of volume he added the overall ? of non opec producers have not ? ? to ? ? for supply ? he said ? ? said an 18 dlr a barrel price was ? as it ? investment in the oil industry ? opec to continue while not ? ? cash ? for ? ? high cost areas ? opec such a price would no ? ? ? measures he added ? ? ? opec ? secretary general also ? the ? added that ? was still needed to ? ? ? in the oil market ? between ? states and europe was ? for both ? ? ? said adding he ? ? would ? lead to full ? ? ? ? reuter 3'"
      ]
     },
     "execution_count": 26,
     "metadata": {},
     "output_type": "execute_result"
    }
   ],
   "source": [
    "decoded_newswire"
   ]
  },
  {
   "cell_type": "code",
   "execution_count": 29,
   "metadata": {},
   "outputs": [
    {
     "data": {
      "text/plain": [
       "array([ 3,  4,  3,  4,  4,  4,  4,  3,  3, 16])"
      ]
     },
     "execution_count": 29,
     "metadata": {},
     "output_type": "execute_result"
    }
   ],
   "source": [
    "y_train[:10]"
   ]
  },
  {
   "cell_type": "code",
   "execution_count": 30,
   "metadata": {},
   "outputs": [
    {
     "name": "stdout",
     "output_type": "stream",
     "text": [
      "46 classes\n"
     ]
    }
   ],
   "source": [
    "num_classes = np.max(y_train) + 1\n",
    "print(num_classes, 'classes')"
   ]
  },
  {
   "cell_type": "markdown",
   "metadata": {},
   "source": [
    "## Vectorize data"
   ]
  },
  {
   "cell_type": "code",
   "execution_count": 31,
   "metadata": {},
   "outputs": [
    {
     "name": "stdout",
     "output_type": "stream",
     "text": [
      "Vectorizing sequence data...\n",
      "x_train shape: (8982, 1000)\n",
      "x_test shape: (2246, 1000)\n"
     ]
    }
   ],
   "source": [
    "print('Vectorizing sequence data...')\n",
    "tokenizer = Tokenizer(num_words=max_words)\n",
    "x_train = tokenizer.sequences_to_matrix(x_train, mode='binary')\n",
    "x_test = tokenizer.sequences_to_matrix(x_test, mode='binary')\n",
    "print('x_train shape:', x_train.shape)\n",
    "print('x_test shape:', x_test.shape)"
   ]
  },
  {
   "cell_type": "markdown",
   "metadata": {},
   "source": [
    "## Convert class vector to binary class matrix (for use with categorical_crossentropy)"
   ]
  },
  {
   "cell_type": "code",
   "execution_count": 33,
   "metadata": {},
   "outputs": [
    {
     "name": "stdout",
     "output_type": "stream",
     "text": [
      "y_train shape: (8982, 46)\n",
      "y_test shape: (2246, 46)\n"
     ]
    }
   ],
   "source": [
    "y_train = keras.utils.to_categorical(y_train, num_classes)\n",
    "y_test = keras.utils.to_categorical(y_test, num_classes)\n",
    "print('y_train shape:', y_train.shape)\n",
    "print('y_test shape:', y_test.shape)"
   ]
  },
  {
   "cell_type": "markdown",
   "metadata": {},
   "source": [
    "### Build network model"
   ]
  },
  {
   "cell_type": "code",
   "execution_count": 74,
   "metadata": {},
   "outputs": [
    {
     "name": "stdout",
     "output_type": "stream",
     "text": [
      "_________________________________________________________________\n",
      "Layer (type)                 Output Shape              Param #   \n",
      "=================================================================\n",
      "dense_16 (Dense)             (None, 512)               512512    \n",
      "_________________________________________________________________\n",
      "dense_17 (Dense)             (None, 64)                32832     \n",
      "_________________________________________________________________\n",
      "dense_18 (Dense)             (None, 46)                2990      \n",
      "=================================================================\n",
      "Total params: 548,334\n",
      "Trainable params: 548,334\n",
      "Non-trainable params: 0\n",
      "_________________________________________________________________\n"
     ]
    }
   ],
   "source": [
    "model = Sequential()\n",
    "model.add(Dense(512, activation='relu', input_shape=(max_words,)))\n",
    "model.add(Dense(64, activation='relu'))\n",
    "model.add(Dense(num_classes, activation='softmax'))\n",
    "model.compile(loss='categorical_crossentropy', optimizer='adam', metrics=['accuracy'])\n",
    "model.summary()"
   ]
  },
  {
   "cell_type": "code",
   "execution_count": 75,
   "metadata": {},
   "outputs": [
    {
     "name": "stdout",
     "output_type": "stream",
     "text": [
      "Train on 8083 samples, validate on 899 samples\n",
      "Epoch 1/25\n",
      "8083/8083 [==============================] - 1s - loss: 1.3384 - acc: 0.6997 - val_loss: 1.0749 - val_acc: 0.7586\n",
      "Epoch 2/25\n",
      "8083/8083 [==============================] - 1s - loss: 0.6760 - acc: 0.8384 - val_loss: 0.9489 - val_acc: 0.7887\n",
      "Epoch 3/25\n",
      "8083/8083 [==============================] - 1s - loss: 0.4018 - acc: 0.9015 - val_loss: 0.9536 - val_acc: 0.7909\n",
      "Epoch 4/25\n",
      "8083/8083 [==============================] - 1s - loss: 0.2760 - acc: 0.9318 - val_loss: 0.9995 - val_acc: 0.7864\n",
      "Epoch 5/25\n",
      "8083/8083 [==============================] - 1s - loss: 0.2190 - acc: 0.9459 - val_loss: 1.0631 - val_acc: 0.7675\n",
      "Epoch 6/25\n",
      "8083/8083 [==============================] - 1s - loss: 0.1835 - acc: 0.9520 - val_loss: 1.0655 - val_acc: 0.7798\n",
      "Epoch 7/25\n",
      "8083/8083 [==============================] - 1s - loss: 0.1662 - acc: 0.9531 - val_loss: 1.1013 - val_acc: 0.7720\n",
      "Epoch 8/25\n",
      "8083/8083 [==============================] - 1s - loss: 0.1552 - acc: 0.9561 - val_loss: 1.1278 - val_acc: 0.7731\n",
      "Epoch 9/25\n",
      "8083/8083 [==============================] - 1s - loss: 0.1447 - acc: 0.9562 - val_loss: 1.0841 - val_acc: 0.7764\n",
      "Epoch 10/25\n",
      "8083/8083 [==============================] - 1s - loss: 0.1431 - acc: 0.9530 - val_loss: 1.1384 - val_acc: 0.7798\n",
      "Epoch 11/25\n",
      "8083/8083 [==============================] - 1s - loss: 0.1335 - acc: 0.9548 - val_loss: 1.1363 - val_acc: 0.7753\n",
      "Epoch 12/25\n",
      "8083/8083 [==============================] - 1s - loss: 0.1263 - acc: 0.9566 - val_loss: 1.1424 - val_acc: 0.7820\n",
      "Epoch 13/25\n",
      "8083/8083 [==============================] - 1s - loss: 0.1168 - acc: 0.9589 - val_loss: 1.1972 - val_acc: 0.7753\n",
      "Epoch 14/25\n",
      "8083/8083 [==============================] - 1s - loss: 0.1128 - acc: 0.9588 - val_loss: 1.1702 - val_acc: 0.7831\n",
      "Epoch 15/25\n",
      "8083/8083 [==============================] - 2s - loss: 0.1111 - acc: 0.9577 - val_loss: 1.1905 - val_acc: 0.7842\n",
      "Epoch 16/25\n",
      "8083/8083 [==============================] - 2s - loss: 0.1029 - acc: 0.9613 - val_loss: 1.2765 - val_acc: 0.7675\n",
      "Epoch 17/25\n",
      "8083/8083 [==============================] - 2s - loss: 0.1064 - acc: 0.9560 - val_loss: 1.1949 - val_acc: 0.7842\n",
      "Epoch 18/25\n",
      "8083/8083 [==============================] - 1s - loss: 0.1015 - acc: 0.9566 - val_loss: 1.2680 - val_acc: 0.7786\n",
      "Epoch 19/25\n",
      "8083/8083 [==============================] - 1s - loss: 0.0990 - acc: 0.9563 - val_loss: 1.3062 - val_acc: 0.7720\n",
      "Epoch 20/25\n",
      "8083/8083 [==============================] - 1s - loss: 0.0918 - acc: 0.9587 - val_loss: 1.2820 - val_acc: 0.7809\n",
      "Epoch 21/25\n",
      "8083/8083 [==============================] - 2s - loss: 0.0926 - acc: 0.9587 - val_loss: 1.2586 - val_acc: 0.7798\n",
      "Epoch 22/25\n",
      "8083/8083 [==============================] - 3s - loss: 0.0874 - acc: 0.9592 - val_loss: 1.2924 - val_acc: 0.7709\n",
      "Epoch 23/25\n",
      "8083/8083 [==============================] - 3s - loss: 0.0843 - acc: 0.9587 - val_loss: 1.3219 - val_acc: 0.7798\n",
      "Epoch 24/25\n",
      "8083/8083 [==============================] - 1s - loss: 0.0829 - acc: 0.9593 - val_loss: 1.4030 - val_acc: 0.7775\n",
      "Epoch 25/25\n",
      "8083/8083 [==============================] - 1s - loss: 0.0878 - acc: 0.9572 - val_loss: 1.3781 - val_acc: 0.7764\n",
      "1152/2246 [==============>...............] - ETA: 0sTest score: 1.39782426491\n",
      "Test accuracy: 0.781834372217\n"
     ]
    }
   ],
   "source": [
    "history = model.fit(x_train, y_train, batch_size=batch_size, epochs=epochs, verbose=1, validation_split=0.1)\n",
    "score = model.evaluate(x_test, y_test, batch_size=batch_size, verbose=1)\n",
    "print('Test score:', score[0])\n",
    "print('Test accuracy:', score[1])"
   ]
  },
  {
   "cell_type": "code",
   "execution_count": 76,
   "metadata": {},
   "outputs": [
    {
     "name": "stdout",
     "output_type": "stream",
     "text": [
      "1216/2246 [===============>..............] - ETA: 0s"
     ]
    }
   ],
   "source": [
    "y_pred = model.predict_classes(x_test)"
   ]
  },
  {
   "cell_type": "code",
   "execution_count": 77,
   "metadata": {},
   "outputs": [
    {
     "data": {
      "text/plain": [
       "4"
      ]
     },
     "execution_count": 77,
     "metadata": {},
     "output_type": "execute_result"
    }
   ],
   "source": [
    "y_pred[11]"
   ]
  },
  {
   "cell_type": "code",
   "execution_count": 78,
   "metadata": {},
   "outputs": [
    {
     "data": {
      "text/plain": [
       "array([ 0.,  0.,  0.,  0.,  1.,  0.,  0.,  0.,  0.,  0.,  0.,  0.,  0.,\n",
       "        0.,  0.,  0.,  0.,  0.,  0.,  0.,  0.,  0.,  0.,  0.,  0.,  0.,\n",
       "        0.,  0.,  0.,  0.,  0.,  0.,  0.,  0.,  0.,  0.,  0.,  0.,  0.,\n",
       "        0.,  0.,  0.,  0.,  0.,  0.,  0.])"
      ]
     },
     "execution_count": 78,
     "metadata": {},
     "output_type": "execute_result"
    }
   ],
   "source": [
    "y_test[11]"
   ]
  },
  {
   "cell_type": "markdown",
   "metadata": {},
   "source": [
    "# transform `y_test` into 1-dimension tensor with class value"
   ]
  },
  {
   "cell_type": "code",
   "execution_count": 79,
   "metadata": {},
   "outputs": [
    {
     "data": {
      "text/plain": [
       "4"
      ]
     },
     "execution_count": 79,
     "metadata": {},
     "output_type": "execute_result"
    }
   ],
   "source": [
    "np.argmax(y_test[11], axis=None, out=None)"
   ]
  },
  {
   "cell_type": "code",
   "execution_count": 80,
   "metadata": {
    "collapsed": true
   },
   "outputs": [],
   "source": [
    "y_classes = np.array([np.argmax(y, axis=None, out=None) for y in y_test])"
   ]
  },
  {
   "cell_type": "code",
   "execution_count": 81,
   "metadata": {},
   "outputs": [
    {
     "data": {
      "text/plain": [
       "(2246,)"
      ]
     },
     "execution_count": 81,
     "metadata": {},
     "output_type": "execute_result"
    }
   ],
   "source": [
    "y_classes.shape"
   ]
  },
  {
   "cell_type": "code",
   "execution_count": 82,
   "metadata": {},
   "outputs": [
    {
     "data": {
      "text/plain": [
       "(2246,)"
      ]
     },
     "execution_count": 82,
     "metadata": {},
     "output_type": "execute_result"
    }
   ],
   "source": [
    "y_pred.shape"
   ]
  },
  {
   "cell_type": "code",
   "execution_count": 83,
   "metadata": {},
   "outputs": [
    {
     "name": "stdout",
     "output_type": "stream",
     "text": [
      "             precision    recall  f1-score   support\n",
      "\n",
      "          0       0.64      0.75      0.69        12\n",
      "          1       0.64      0.81      0.72       105\n",
      "          2       0.90      0.45      0.60        20\n",
      "          3       0.92      0.92      0.92       813\n",
      "          4       0.81      0.88      0.84       474\n",
      "          5       0.25      0.20      0.22         5\n",
      "          6       0.91      0.71      0.80        14\n",
      "          7       1.00      0.33      0.50         3\n",
      "          8       0.62      0.76      0.68        38\n",
      "          9       0.73      0.76      0.75        25\n",
      "         10       0.91      0.97      0.94        30\n",
      "         11       0.76      0.69      0.72        83\n",
      "         12       0.50      0.31      0.38        13\n",
      "         13       0.51      0.62      0.56        37\n",
      "         14       0.00      0.00      0.00         2\n",
      "         15       0.40      0.22      0.29         9\n",
      "         16       0.68      0.76      0.72        99\n",
      "         17       0.75      0.50      0.60        12\n",
      "         18       0.62      0.50      0.56        20\n",
      "         19       0.61      0.68      0.64       133\n",
      "         20       0.52      0.46      0.48        70\n",
      "         21       0.64      0.78      0.70        27\n",
      "         22       0.00      0.00      0.00         7\n",
      "         23       0.20      0.08      0.12        12\n",
      "         24       0.44      0.21      0.29        19\n",
      "         25       0.69      0.71      0.70        31\n",
      "         26       1.00      0.12      0.22         8\n",
      "         27       0.50      0.50      0.50         4\n",
      "         28       0.43      0.30      0.35        10\n",
      "         29       0.43      0.75      0.55         4\n",
      "         30       0.83      0.42      0.56        12\n",
      "         31       0.67      0.31      0.42        13\n",
      "         32       1.00      0.50      0.67        10\n",
      "         33       0.80      0.80      0.80         5\n",
      "         34       1.00      0.29      0.44         7\n",
      "         35       1.00      0.33      0.50         6\n",
      "         36       0.67      0.55      0.60        11\n",
      "         37       0.00      0.00      0.00         2\n",
      "         38       0.00      0.00      0.00         3\n",
      "         39       0.17      0.20      0.18         5\n",
      "         40       0.67      0.20      0.31        10\n",
      "         41       0.17      0.12      0.14         8\n",
      "         42       0.00      0.00      0.00         3\n",
      "         43       0.71      0.83      0.77         6\n",
      "         44       1.00      0.80      0.89         5\n",
      "         45       1.00      1.00      1.00         1\n",
      "\n",
      "avg / total       0.78      0.78      0.77      2246\n",
      "\n"
     ]
    },
    {
     "name": "stderr",
     "output_type": "stream",
     "text": [
      "/Users/dsbatista/virtual_envs/python3/lib/python3.6/site-packages/sklearn/metrics/classification.py:1113: UndefinedMetricWarning: Precision and F-score are ill-defined and being set to 0.0 in labels with no predicted samples.\n",
      "  'precision', 'predicted', average, warn_for)\n"
     ]
    }
   ],
   "source": [
    "print(classification_report(y_classes, y_pred))"
   ]
  },
  {
   "cell_type": "code",
   "execution_count": 84,
   "metadata": {},
   "outputs": [
    {
     "data": {
      "image/png": "[encoded data removed]",
      "text/plain": [
       "<matplotlib.figure.Figure at 0x11d4fb518>"
      ]
     },
     "metadata": {},
     "output_type": "display_data"
    }
   ],
   "source": [
    "loss = history.history['loss']\n",
    "val_loss = history.history['val_loss']\n",
    "\n",
    "epochs = range(1, len(loss) + 1)\n",
    "\n",
    "plt.plot(epochs, loss, 'bo', label='Training loss')\n",
    "plt.plot(epochs, val_loss, 'b', label='Validation loss')\n",
    "plt.title('Training and validation loss')\n",
    "plt.xlabel('Epochs')\n",
    "plt.ylabel('Loss')\n",
    "plt.legend()\n",
    "plt.show()"
   ]
  },
  {
   "cell_type": "code",
   "execution_count": 85,
   "metadata": {},
   "outputs": [
    {
     "data": {
      "image/png": "[encoded data removed]",
      "text/plain": [
       "<matplotlib.figure.Figure at 0x11de892b0>"
      ]
     },
     "metadata": {},
     "output_type": "display_data"
    }
   ],
   "source": [
    "acc = history.history['acc']\n",
    "val_acc = history.history['val_acc']\n",
    "\n",
    "plt.plot(epochs, acc, 'bo', label='Training acc')\n",
    "plt.plot(epochs, val_acc, 'b', label='Validation acc')\n",
    "plt.title('Training and validation accuracy')\n",
    "plt.xlabel('Epochs')\n",
    "plt.ylabel('Loss')\n",
    "plt.legend()\n",
    "plt.show()"
   ]
  },
  {
   "cell_type": "code",
   "execution_count": null,
   "metadata": {
    "collapsed": true
   },
   "outputs": [],
   "source": []
  }
 ],
 "metadata": {
  "kernelspec": {
   "display_name": "Python 3",
   "language": "python",
   "name": "python3"
  },
  "language_info": {
   "codemirror_mode": {
    "name": "ipython",
    "version": 3
   },
   "file_extension": ".py",
   "mimetype": "text/x-python",
   "name": "python",
   "nbconvert_exporter": "python",
   "pygments_lexer": "ipython3",
   "version": "3.6.2"
  }
 },
 "nbformat": 4,
 "nbformat_minor": 2
}
